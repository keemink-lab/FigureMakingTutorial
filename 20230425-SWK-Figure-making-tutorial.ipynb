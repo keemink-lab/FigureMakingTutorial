{
 "cells": [
  {
   "cell_type": "markdown",
   "id": "084ee643",
   "metadata": {},
   "source": [
    "# Figure making tutorial\n",
    "Author: Sander Keemink (sander.keemink@donders.ru.nl)\n",
    "\n",
    "In this notebook we will generate some basic simulation results, and adjust the plotting paremeters."
   ]
  },
  {
   "cell_type": "code",
   "execution_count": null,
   "id": "81b07ea5",
   "metadata": {},
   "outputs": [],
   "source": [
    "%matplotlib inline\n",
    "import numpy as np\n",
    "from scipy.integrate import odeint\n",
    "import matplotlib.pyplot as plt"
   ]
  },
  {
   "cell_type": "markdown",
   "id": "b7b9d4cb",
   "metadata": {},
   "source": [
    "###  2D systems: coupled neural populations\n",
    "We will be simulating the following system and trying to plot its behavior in a logical way.\n",
    "\n",
    "$$ \\frac{dr_E}{dt} = -r_E + f(w_{EE}r_E - w_{EI}r_I+I) $$\n",
    "$$ \\frac{dr_I}{dt} = -r_I + f(w_{IE}r_E - w_{II}r_I+I) $$\n",
    "$$ f(x) = \\frac{1}{1+\\exp(-sx)} $$\n",
    "<center><img src='neural systems - exc-inh pair.svg' width=600>\n",
    "(often referred to as Wilson-Cowan models)"
   ]
  },
  {
   "cell_type": "code",
   "execution_count": null,
   "id": "733ecb16",
   "metadata": {},
   "outputs": [],
   "source": [
    "# solver\n",
    "def euler_solve(dx, x0, par, dt, nT, noise=None):\n",
    "    '''Simulates the system of differential equations specified by dx, using forward Euler.\n",
    "    \n",
    "    Parameters\n",
    "    ----------\n",
    "    dx : function\n",
    "        Function of form dx(x, par), which determines how the state will change given current state\n",
    "    x0 : array\n",
    "        Starting parameters\n",
    "    par : unknown\n",
    "        Whatever parametes go into dx\n",
    "    dt : float\n",
    "        Timestep size\n",
    "    nT : int\n",
    "        Number of timesteps\n",
    "    noise : array, to be implemented\n",
    "        If given, what noise to be added at every time step (could possibly be a function)\n",
    "    \n",
    "    Output\n",
    "    ------\n",
    "    array\n",
    "        Simulated values\n",
    "    '''\n",
    "    # preamble\n",
    "    nS = len(x0) # nr of equations/signals\n",
    "    out = np.zeros((nS, nT)) # predefined output\n",
    "    out[:, 0] = x0\n",
    "    \n",
    "    # loop over time\n",
    "    for i in range(nT-1):\n",
    "        out[:, i+1] = out[:, i] + dt*dx(out[:, i], par)\n",
    "    \n",
    "    # return\n",
    "    return out"
   ]
  },
  {
   "cell_type": "markdown",
   "id": "ebbdde76",
   "metadata": {},
   "source": [
    "Set parameters"
   ]
  },
  {
   "cell_type": "code",
   "execution_count": null,
   "id": "c226630f",
   "metadata": {},
   "outputs": [],
   "source": [
    "# timescale\n",
    "taus = [1, 1]\n",
    "\n",
    "\n",
    "# connectivity\n",
    "taus = [0.1, 1]\n",
    "s = 1\n",
    "wEE = 5\n",
    "wIE = 30\n",
    "wEI = 5\n",
    "wII = 4.4\n",
    "W = np.array([[wEE, -wEI], [wIE, -wII]])\n",
    "Is = [0.3, -10]\n",
    "\n",
    "# collect parameters\n",
    "par = [s, W, Is]\n",
    "\n",
    "# functions\n",
    "f = lambda x, s: 1/(1+np.exp(-s*x))\n",
    "drdt = lambda r, t, par: -r/taus + f(np.dot(par[1], r) + par[2], par[0])/taus"
   ]
  },
  {
   "cell_type": "markdown",
   "id": "4ffe1e00",
   "metadata": {},
   "source": [
    "Simulate"
   ]
  },
  {
   "cell_type": "code",
   "execution_count": null,
   "id": "a1813b27",
   "metadata": {},
   "outputs": [],
   "source": [
    "# set starting condition\n",
    "r0 = np.array([0, 0])\n",
    "\n",
    "# set timepoints to store\n",
    "times = np.linspace(0, 10, 1000)\n",
    "\n",
    "# simulate\n",
    "sol = odeint(drdt, r0, times, args=(par, ))\n",
    "rE = sol[:, 0]\n",
    "rI = sol[:, 1]"
   ]
  },
  {
   "cell_type": "markdown",
   "id": "3764c555",
   "metadata": {},
   "source": [
    "Plot the activities against each other"
   ]
  },
  {
   "cell_type": "code",
   "execution_count": null,
   "id": "6b0532d4",
   "metadata": {},
   "outputs": [],
   "source": [
    "def plotrErI(fontsize=10):\n",
    "    plt.plot(rE, rI)\n",
    "    plt.xlabel('Excitatory activity rE (a.u.)', fontsize=fontsize)\n",
    "    plt.ylabel('Inhibitory activity rI (a.u.)', fontsize=fontsize)\n",
    "    plt.xlim([0, 1])\n",
    "    plt.ylim([0, 1])\n",
    "plotrErI(fontsize=10)"
   ]
  },
  {
   "cell_type": "markdown",
   "id": "c6204e5c",
   "metadata": {},
   "source": [
    "Plot the activities across time"
   ]
  },
  {
   "cell_type": "code",
   "execution_count": null,
   "id": "e3d83a35",
   "metadata": {},
   "outputs": [],
   "source": [
    "def plotTimesVSr(r, label, fontsize=10):\n",
    "    plt.plot(times, r)\n",
    "    plt.xlabel('Time (a.u.)', fontsize=fontsize)\n",
    "    plt.ylabel(label, fontsize=fontsize)\n",
    "plotTimesVSr(rE, 'rE (a.u.)')\n",
    "plotTimesVSr(rI, 'rI (a.u.)')"
   ]
  },
  {
   "cell_type": "markdown",
   "id": "de21915b",
   "metadata": {},
   "source": [
    "Plot all together"
   ]
  },
  {
   "cell_type": "code",
   "execution_count": null,
   "id": "4983f6b4",
   "metadata": {},
   "outputs": [],
   "source": [
    "fig = plt.figure()\n",
    "\n",
    "# plot rE VS rI\n",
    "ax1 = plt.subplot(121, aspect=2)\n",
    "plt.xticks(np.linspace(0, 1, 5))\n",
    "plt.yticks(np.linspace(0, 1, 5))\n",
    "plotrErI()\n",
    "\n",
    "# plot rE over time\n",
    "ax2 = plt.subplot(222, aspect=10)\n",
    "plotTimesVSr(rE, 'rE')\n",
    "plt.xticks(np.linspace(0, 10, 5))\n",
    "plt.yticks(np.linspace(0, 1, 5))\n",
    "\n",
    "# plot rI over time\n",
    "ax3 = plt.subplot(224, aspect=10)\n",
    "plotTimesVSr(rI, 'rI')\n",
    "plt.xticks(np.linspace(0, 10, 5))\n",
    "plt.yticks(np.linspace(0, 1, 5))\n",
    "\n",
    "plt.savefig('fig.svg')\n",
    "plt.tight_layout() # this often fixes a lot of layout problems. Try plotting without it!"
   ]
  }
 ],
 "metadata": {
  "kernelspec": {
   "display_name": "Python 3",
   "language": "python",
   "name": "python3"
  },
  "language_info": {
   "codemirror_mode": {
    "name": "ipython",
    "version": 3
   },
   "file_extension": ".py",
   "mimetype": "text/x-python",
   "name": "python",
   "nbconvert_exporter": "python",
   "pygments_lexer": "ipython3",
   "version": "3.8.8"
  }
 },
 "nbformat": 4,
 "nbformat_minor": 5
}
